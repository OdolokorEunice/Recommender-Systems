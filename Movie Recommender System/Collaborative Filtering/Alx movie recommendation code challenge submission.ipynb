{
 "cells": [
  {
   "cell_type": "code",
   "execution_count": 1,
   "id": "f9f7a8e8",
   "metadata": {
    "_cell_guid": "b1076dfc-b9ad-4769-8c92-a6c4dae69d19",
    "_uuid": "8f2839f25d086af736a60e9eeb907d3b93b6e0e5",
    "execution": {
     "iopub.execute_input": "2024-06-21T11:38:29.105984Z",
     "iopub.status.busy": "2024-06-21T11:38:29.105517Z",
     "iopub.status.idle": "2024-06-21T11:38:30.113910Z",
     "shell.execute_reply": "2024-06-21T11:38:30.112362Z"
    },
    "papermill": {
     "duration": 1.015965,
     "end_time": "2024-06-21T11:38:30.116551",
     "exception": false,
     "start_time": "2024-06-21T11:38:29.100586",
     "status": "completed"
    },
    "tags": []
   },
   "outputs": [
    {
     "name": "stdout",
     "output_type": "stream",
     "text": [
      "/kaggle/input/alx-movie-recommendation-project-2024/sample_submission.csv\n",
      "/kaggle/input/alx-movie-recommendation-project-2024/movies.csv\n",
      "/kaggle/input/alx-movie-recommendation-project-2024/imdb_data.csv\n",
      "/kaggle/input/alx-movie-recommendation-project-2024/genome_tags.csv\n",
      "/kaggle/input/alx-movie-recommendation-project-2024/genome_scores.csv\n",
      "/kaggle/input/alx-movie-recommendation-project-2024/train.csv\n",
      "/kaggle/input/alx-movie-recommendation-project-2024/test.csv\n",
      "/kaggle/input/alx-movie-recommendation-project-2024/tags.csv\n",
      "/kaggle/input/alx-movie-recommendation-project-2024/links.csv\n"
     ]
    }
   ],
   "source": [
    "# This Python 3 environment comes with many helpful analytics libraries installed\n",
    "# It is defined by the kaggle/python Docker image: https://github.com/kaggle/docker-python\n",
    "# For example, here's several helpful packages to load\n",
    "\n",
    "import numpy as np # linear algebra\n",
    "import pandas as pd # data processing, CSV file I/O (e.g. pd.read_csv)\n",
    "\n",
    "# Input data files are available in the read-only \"../input/\" directory\n",
    "# For example, running this (by clicking run or pressing Shift+Enter) will list all files under the input directory\n",
    "\n",
    "import os\n",
    "for dirname, _, filenames in os.walk('/kaggle/input'):\n",
    "    for filename in filenames:\n",
    "        print(os.path.join(dirname, filename))\n",
    "\n",
    "# You can write up to 20GB to the current directory (/kaggle/working/) that gets preserved as output when you create a version using \"Save & Run All\" \n",
    "# You can also write temporary files to /kaggle/temp/, but they won't be saved outside of the current session"
   ]
  },
  {
   "cell_type": "code",
   "execution_count": 2,
   "id": "fc1f1909",
   "metadata": {
    "execution": {
     "iopub.execute_input": "2024-06-21T11:38:30.124906Z",
     "iopub.status.busy": "2024-06-21T11:38:30.124354Z",
     "iopub.status.idle": "2024-06-21T11:45:27.421191Z",
     "shell.execute_reply": "2024-06-21T11:45:27.419800Z"
    },
    "papermill": {
     "duration": 417.306136,
     "end_time": "2024-06-21T11:45:27.426010",
     "exception": false,
     "start_time": "2024-06-21T11:38:30.119874",
     "status": "completed"
    },
    "tags": []
   },
   "outputs": [
    {
     "name": "stdout",
     "output_type": "stream",
     "text": [
      "Requirement already satisfied: scikit-surprise in /opt/conda/lib/python3.10/site-packages (1.1.4)\r\n",
      "Requirement already satisfied: joblib>=1.2.0 in /opt/conda/lib/python3.10/site-packages (from scikit-surprise) (1.4.2)\r\n",
      "Requirement already satisfied: numpy>=1.19.5 in /opt/conda/lib/python3.10/site-packages (from scikit-surprise) (1.26.4)\r\n",
      "Requirement already satisfied: scipy>=1.6.0 in /opt/conda/lib/python3.10/site-packages (from scikit-surprise) (1.11.4)\r\n",
      "       Id    rating\n",
      "0  1_2011  3.352608\n",
      "1  1_4144  4.142953\n",
      "2  1_5767  3.713362\n",
      "3  1_6711  3.885516\n",
      "4  1_7318  3.116614\n"
     ]
    }
   ],
   "source": [
    "!pip install scikit-surprise\n",
    "import pandas as pd\n",
    "from surprise import Dataset, Reader, SVD\n",
    "from surprise.model_selection import train_test_split\n",
    "from surprise import accuracy\n",
    "\n",
    "# Load training and testing data\n",
    "train_data = pd.read_csv('/kaggle/input/alx-movie-recommendation-project-2024/train.csv')\n",
    "test_data = pd.read_csv('/kaggle/input/alx-movie-recommendation-project-2024/test.csv')  # Test data only contains 'userId' and 'movieId'\n",
    "\n",
    "# Define a reader to parse the data\n",
    "reader = Reader(rating_scale=(1, 5))\n",
    "\n",
    "# Load the training data into the Surprise dataset format\n",
    "trainset = Dataset.load_from_df(train_data[['userId', 'movieId', 'rating']], reader).build_full_trainset()\n",
    "\n",
    "# Use SVD algorithm\n",
    "algo = SVD()\n",
    "\n",
    "# Train the algorithm on the trainset\n",
    "algo.fit(trainset)\n",
    "\n",
    "# Prepare testset for predictions (list of tuples: (userId, movieId, rating), with dummy rating)\n",
    "testset = list(zip(test_data['userId'], test_data['movieId'], [0] * len(test_data)))\n",
    "\n",
    "# Predict ratings for the testset\n",
    "predictions = algo.test(testset)\n",
    "\n",
    "# Extract the predicted ratings\n",
    "predicted_ratings = [pred.est for pred in predictions]\n",
    "\n",
    "# Add the predicted ratings to the test data\n",
    "test_data['rating'] = predicted_ratings\n",
    "\n",
    "# Create the 'Id' column as a concatenation of 'userId' and 'movieId'\n",
    "test_data['Id'] = test_data['userId'].astype(str) + '_' + test_data['movieId'].astype(str)\n",
    "\n",
    "submission = test_data[['Id', 'rating']].rename(columns={'rating': 'rating'})\n",
    "\n",
    "\n",
    "# Output the test data with predicted ratings\n",
    "submission.to_csv('predicted_ratings.csv', index=False)\n",
    "\n",
    "print(submission.head())"
   ]
  },
  {
   "cell_type": "code",
   "execution_count": 3,
   "id": "107f9b35",
   "metadata": {
    "execution": {
     "iopub.execute_input": "2024-06-21T11:45:27.434036Z",
     "iopub.status.busy": "2024-06-21T11:45:27.433586Z",
     "iopub.status.idle": "2024-06-21T11:45:27.444099Z",
     "shell.execute_reply": "2024-06-21T11:45:27.442686Z"
    },
    "papermill": {
     "duration": 0.017726,
     "end_time": "2024-06-21T11:45:27.446818",
     "exception": false,
     "start_time": "2024-06-21T11:45:27.429092",
     "status": "completed"
    },
    "tags": []
   },
   "outputs": [
    {
     "data": {
      "text/plain": [
       "(5000019, 2)"
      ]
     },
     "execution_count": 3,
     "metadata": {},
     "output_type": "execute_result"
    }
   ],
   "source": [
    "submission.shape"
   ]
  },
  {
   "cell_type": "code",
   "execution_count": null,
   "id": "5e45fff2",
   "metadata": {
    "papermill": {
     "duration": 0.003924,
     "end_time": "2024-06-21T11:45:27.454307",
     "exception": false,
     "start_time": "2024-06-21T11:45:27.450383",
     "status": "completed"
    },
    "tags": []
   },
   "outputs": [],
   "source": []
  }
 ],
 "metadata": {
  "kaggle": {
   "accelerator": "none",
   "dataSources": [
    {
     "databundleVersionId": 8778365,
     "sourceId": 81285,
     "sourceType": "competition"
    }
   ],
   "dockerImageVersionId": 30732,
   "isGpuEnabled": false,
   "isInternetEnabled": true,
   "language": "python",
   "sourceType": "notebook"
  },
  "kernelspec": {
   "display_name": "Python 3",
   "language": "python",
   "name": "python3"
  },
  "language_info": {
   "codemirror_mode": {
    "name": "ipython",
    "version": 3
   },
   "file_extension": ".py",
   "mimetype": "text/x-python",
   "name": "python",
   "nbconvert_exporter": "python",
   "pygments_lexer": "ipython3",
   "version": "3.10.13"
  },
  "papermill": {
   "default_parameters": {},
   "duration": 424.500041,
   "end_time": "2024-06-21T11:45:30.382659",
   "environment_variables": {},
   "exception": null,
   "input_path": "__notebook__.ipynb",
   "output_path": "__notebook__.ipynb",
   "parameters": {},
   "start_time": "2024-06-21T11:38:25.882618",
   "version": "2.5.0"
  }
 },
 "nbformat": 4,
 "nbformat_minor": 5
}
